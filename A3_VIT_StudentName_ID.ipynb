{
 "cells": [
  {
   "cell_type": "markdown",
   "metadata": {
    "id": "5tdAQIWPJleJ"
   },
   "source": [
    "# Image classification with Vision Transformer\n",
    "\n",
    "This code follows \"[Image classification with Vision Transformer](https://keras.io/examples/vision/image_classification_with_vision_transformer/)\" tutorial of Keras.\n",
    "We made some editions to make this code able to run with Keras 2 (the version of Keras on Google Colab on check date 3 May 2024) and match the ViT architecture proposed by [AN IMAGE IS WORTH 16X16 WORDS:\n",
    "TRANSFORMERS FOR IMAGE RECOGNITION AT SCALE](https://openreview.net/pdf?id=YicbFdNTTy)\n"
   ]
  },
  {
   "cell_type": "markdown",
   "metadata": {
    "id": "bZG8C6dnJleL"
   },
   "source": [
    "## Introduction\n",
    "\n",
    "This example implements the [Vision Transformer (ViT)](https://arxiv.org/abs/2010.11929)\n",
    "model by Alexey Dosovitskiy et al. for image classification,\n",
    "and demonstrates it on the CIFAR-100 dataset.\n",
    "The ViT model applies the Transformer architecture with self-attention to sequences of\n",
    "image patches, without using convolution layers."
   ]
  },
  {
   "cell_type": "markdown",
   "metadata": {
    "id": "mhGVdQnqJleL"
   },
   "source": [
    "# Baseline setup"
   ]
  },
  {
   "cell_type": "code",
   "execution_count": 1,
   "metadata": {
    "id": "gCO0J0MEJleL"
   },
   "outputs": [
    {
     "name": "stderr",
     "output_type": "stream",
     "text": [
      "2024-08-28 21:57:50.502769: I tensorflow/core/util/util.cc:169] oneDNN custom operations are on. You may see slightly different numerical results due to floating-point round-off errors from different computation orders. To turn them off, set the environment variable `TF_ENABLE_ONEDNN_OPTS=0`.\n"
     ]
    }
   ],
   "source": [
    "import os\n",
    "import tensorflow as tf\n",
    "import tensorflow.keras as keras\n",
    "# import keras\n",
    "from keras import layers\n",
    "# from keras import ops\n",
    "\n",
    "import numpy as np\n",
    "import matplotlib.pyplot as plt"
   ]
  },
  {
   "cell_type": "markdown",
   "metadata": {
    "id": "_4P3VDdVJleM"
   },
   "source": [
    "## Prepare the data"
   ]
  },
  {
   "cell_type": "code",
   "execution_count": 2,
   "metadata": {
    "id": "wMWhUnS5JleM"
   },
   "outputs": [
    {
     "name": "stdout",
     "output_type": "stream",
     "text": [
      "x_train shape: (50000, 32, 32, 3) - y_train shape: (50000, 1)\n",
      "x_test shape: (10000, 32, 32, 3) - y_test shape: (10000, 1)\n"
     ]
    }
   ],
   "source": [
    "num_classes = 100\n",
    "input_shape = (32, 32, 3)\n",
    "\n",
    "(x_train, y_train), (x_test, y_test) = keras.datasets.cifar100.load_data()\n",
    "\n",
    "print(f\"x_train shape: {x_train.shape} - y_train shape: {y_train.shape}\")\n",
    "print(f\"x_test shape: {x_test.shape} - y_test shape: {y_test.shape}\")\n"
   ]
  },
  {
   "cell_type": "markdown",
   "metadata": {
    "id": "IpD1LDHtJleM"
   },
   "source": [
    "## Configure the hyperparameters"
   ]
  },
  {
   "cell_type": "code",
   "execution_count": 3,
   "metadata": {
    "id": "plUbzrzrJleM"
   },
   "outputs": [],
   "source": [
    "learning_rate = 0.001\n",
    "weight_decay = 0.0001\n",
    "batch_size = 256\n",
    "num_epochs = 20\n",
    "image_size = 72  # We'll resize input images to this size\n",
    "patch_size = 6  # Size of the patches to be extract from the input images\n",
    "num_patches = (image_size // patch_size) ** 2\n",
    "projection_dim = 64\n",
    "num_heads = 4\n",
    "transformer_units = [\n",
    "    projection_dim * 2,\n",
    "    projection_dim,\n",
    "]  # Size of the transformer layers\n",
    "transformer_layers = 8\n",
    "mlp_head_units = [\n",
    "    2048,\n",
    "    1024,\n",
    "]  # Size of the dense layers of the final classifier\n",
    "dropout_rate = 0.1"
   ]
  },
  {
   "cell_type": "markdown",
   "metadata": {
    "id": "rqebsbdvJleN"
   },
   "source": [
    "## Use data augmentation"
   ]
  },
  {
   "cell_type": "code",
   "execution_count": 4,
   "metadata": {
    "id": "sV_ilzDQJleN"
   },
   "outputs": [
    {
     "name": "stderr",
     "output_type": "stream",
     "text": [
      "2024-08-28 21:57:53.572662: I tensorflow/core/platform/cpu_feature_guard.cc:193] This TensorFlow binary is optimized with oneAPI Deep Neural Network Library (oneDNN) to use the following CPU instructions in performance-critical operations:  AVX2 AVX512F AVX512_VNNI FMA\n",
      "To enable them in other operations, rebuild TensorFlow with the appropriate compiler flags.\n",
      "2024-08-28 21:57:54.090590: I tensorflow/core/common_runtime/gpu/gpu_device.cc:1532] Created device /job:localhost/replica:0/task:0/device:GPU:0 with 18271 MB memory:  -> device: 0, name: NVIDIA GeForce RTX 3080, pci bus id: 0000:31:00.0, compute capability: 8.6\n"
     ]
    }
   ],
   "source": [
    "data_augmentation = keras.Sequential(\n",
    "    [\n",
    "        layers.Normalization(),\n",
    "        layers.Resizing(image_size, image_size),\n",
    "        layers.RandomFlip(\"horizontal\"),\n",
    "        layers.RandomRotation(factor=0.02),\n",
    "        layers.RandomZoom(height_factor=0.2, width_factor=0.2),\n",
    "    ],\n",
    "    name=\"data_augmentation\",\n",
    ")\n",
    "# Compute the mean and the variance of the training data for normalization.\n",
    "data_augmentation.layers[0].adapt(x_train)\n"
   ]
  },
  {
   "cell_type": "markdown",
   "metadata": {
    "id": "9Bs2RKZnJleN"
   },
   "source": [
    "## Implement multilayer perceptron (MLP)"
   ]
  },
  {
   "cell_type": "code",
   "execution_count": 5,
   "metadata": {
    "id": "PWhvf1D7JleN"
   },
   "outputs": [],
   "source": [
    "\n",
    "def mlp(x, hidden_units, dropout_rate):\n",
    "    for units in hidden_units:\n",
    "        x = layers.Dense(units, activation=keras.activations.gelu)(x)\n",
    "        x = layers.Dropout(dropout_rate)(x)\n",
    "    return x\n"
   ]
  },
  {
   "cell_type": "markdown",
   "metadata": {
    "id": "f-Qs6tW0JleN"
   },
   "source": [
    "## Implement patch creation as a layer"
   ]
  },
  {
   "cell_type": "code",
   "execution_count": 6,
   "metadata": {
    "id": "PG3hOKq_JleN"
   },
   "outputs": [],
   "source": [
    "\n",
    "class Patches(layers.Layer):\n",
    "    def __init__(self, patch_size):\n",
    "        super().__init__()\n",
    "        self.patch_size = patch_size\n",
    "\n",
    "    def call(self, images):\n",
    "        input_shape = images.shape\n",
    "        batch_size = tf.shape(images)[0]\n",
    "        height = input_shape[1]\n",
    "        width = input_shape[2]\n",
    "        channels = input_shape[3]\n",
    "        num_patches_h = height // self.patch_size\n",
    "        num_patches_w = width // self.patch_size\n",
    "        p_s = [1, self.patch_size, self.patch_size, 1]\n",
    "        patches = tf.image.extract_patches(images, sizes=p_s, strides=p_s, rates=[1,1,1,1], padding='VALID')\n",
    "\n",
    "        patches = tf.reshape(patches, (\n",
    "                batch_size,\n",
    "                num_patches_h * num_patches_w,\n",
    "                self.patch_size * self.patch_size * channels,\n",
    "            ),\n",
    "        )\n",
    "        return patches\n",
    "\n",
    "    def get_config(self):\n",
    "        config = super().get_config()\n",
    "        config.update({\"patch_size\": self.patch_size})\n",
    "        return config\n"
   ]
  },
  {
   "cell_type": "code",
   "execution_count": 7,
   "metadata": {
    "id": "ThzrYErJJleO"
   },
   "outputs": [
    {
     "name": "stdout",
     "output_type": "stream",
     "text": [
      "Image size: 72 X 72\n",
      "Patch size: 6 X 6\n",
      "Patches per image: 144\n",
      "Elements per patch: 108\n"
     ]
    },
    {
     "data": {
      "image/png": "[encoded data removed]",
      "text/plain": [
       "<Figure size 288x288 with 1 Axes>"
      ]
     },
     "metadata": {
      "needs_background": "light"
     },
     "output_type": "display_data"
    },
    {
     "data": {
      "image/png": "[encoded data removed]",
      "text/plain": [
       "<Figure size 288x288 with 144 Axes>"
      ]
     },
     "metadata": {
      "needs_background": "light"
     },
     "output_type": "display_data"
    }
   ],
   "source": [
    "plt.figure(figsize=(4, 4))\n",
    "image = x_train[np.random.choice(range(x_train.shape[0]))]\n",
    "plt.imshow(image.astype(\"uint8\"))\n",
    "plt.axis(\"off\")\n",
    "\n",
    "resized_image = tf.image.resize(\n",
    "    tf.convert_to_tensor([image]), size=(image_size, image_size)\n",
    ")\n",
    "patches = Patches(patch_size)(resized_image)\n",
    "print(f\"Image size: {image_size} X {image_size}\")\n",
    "print(f\"Patch size: {patch_size} X {patch_size}\")\n",
    "print(f\"Patches per image: {patches.shape[1]}\")\n",
    "print(f\"Elements per patch: {patches.shape[-1]}\")\n",
    "\n",
    "n = int(np.sqrt(patches.shape[1]))\n",
    "plt.figure(figsize=(4, 4))\n",
    "for i, patch in enumerate(patches[0]):\n",
    "    ax = plt.subplot(n, n, i + 1)\n",
    "    patch_img = tf.reshape(patch, (patch_size, patch_size, 3))\n",
    "    plt.imshow(patch_img.numpy().astype(\"uint8\"))\n",
    "    plt.axis(\"off\")"
   ]
  },
  {
   "cell_type": "code",
   "execution_count": 8,
   "metadata": {
    "id": "pkjRwOC-JleO"
   },
   "outputs": [],
   "source": [
    "\n",
    "class PatchEncoder(layers.Layer):\n",
    "    def __init__(self, num_patches, projection_dim):\n",
    "        super().__init__()\n",
    "        self.num_patches = num_patches+1\n",
    "        self.cls_token = tf.Variable(initial_value=tf.random.normal([1, 1, projection_dim]))\n",
    "        self.projection = layers.Dense(units=projection_dim)\n",
    "        self.position_embedding = layers.Embedding(\n",
    "            input_dim=self.num_patches, output_dim=projection_dim\n",
    "        )\n",
    "\n",
    "    def call(self, patch):\n",
    "        positions = tf.expand_dims(\n",
    "            tf.range(start=0, limit=self.num_patches, delta=1), axis=0\n",
    "        )\n",
    "        bz = tf.shape(patch)[0]\n",
    "        cls_tokens = tf.repeat(self.cls_token, bz, axis=0)\n",
    "        projected_patches = self.projection(patch)\n",
    "        projected_token = tf.concat([cls_tokens, projected_patches], axis=1)\n",
    "        encoded = projected_token + self.position_embedding(positions)\n",
    "        return encoded\n",
    "\n",
    "    def get_config(self):\n",
    "        config = super().get_config()\n",
    "        config.update({\"num_patches\": self.num_patches})\n",
    "        return config\n"
   ]
  },
  {
   "cell_type": "markdown",
   "metadata": {
    "id": "eU-J28j1GqnO"
   },
   "source": [
    "# Task 3 - Implement the MultiHeadAttention module\n",
    "\n",
    "You are required to implement the MultiHeadAttention module on your own. You may want to check for [Tensorflow tutorial on implemetation a custom layer](https://www.tensorflow.org/tutorials/customization/custom_layers)"
   ]
  },
  {
   "cell_type": "code",
   "execution_count": 9,
   "metadata": {
    "id": "gLxvn054tYCS"
   },
   "outputs": [],
   "source": [
    "# TODO: you can choose to implement the MultiHeadAttention module as a Layer or as a Model and use the corresponding code block\n",
    "class My_MultiHeadAttention(layers.Layer):\n",
    "    def __init__(self, embed_dim, num_heads):\n",
    "        super(My_MultiHeadAttention, self).__init__()\n",
    "        self.num_heads = num_heads\n",
    "        self.embed_dim = embed_dim\n",
    "        \n",
    "        assert embed_dim % num_heads == 0\n",
    "        \n",
    "        self.projection_dim = embed_dim // num_heads\n",
    "        self.query_dense = layers.Dense(embed_dim)\n",
    "        self.key_dense = layers.Dense(embed_dim)\n",
    "        self.value_dense = layers.Dense(embed_dim)\n",
    "        self.combine_heads = layers.Dense(embed_dim)\n",
    "\n",
    "    def attention(self, query, key, value):\n",
    "        score = tf.matmul(query, key, transpose_b=True)\n",
    "        dim_key = tf.cast(tf.shape(key)[-1], tf.float32)\n",
    "        scaled_score = score / tf.math.sqrt(dim_key)\n",
    "        weights = tf.nn.softmax(scaled_score, axis=-1)\n",
    "        output = tf.matmul(weights, value)\n",
    "        return output\n",
    "\n",
    "    def call(self, inputs):\n",
    "        query, key, value = inputs, inputs, inputs\n",
    "        batch_size = tf.shape(query)[0]\n",
    "\n",
    "        query = self.query_dense(query)\n",
    "        key = self.key_dense(key)\n",
    "        value = self.value_dense(value)\n",
    "\n",
    "        query = self.separate_heads(query, batch_size)\n",
    "        key = self.separate_heads(key, batch_size)\n",
    "        value = self.separate_heads(value, batch_size)\n",
    "\n",
    "        attention = self.attention(query, key, value)\n",
    "        attention = tf.transpose(attention, perm=[0, 2, 1, 3])\n",
    "        concat_attention = tf.reshape(attention, (batch_size, -1, self.embed_dim))\n",
    "        output = self.combine_heads(concat_attention)\n",
    "        return output\n",
    "\n",
    "    def separate_heads(self, x, batch_size):\n",
    "        x = tf.reshape(x, (batch_size, -1, self.num_heads, self.projection_dim))\n",
    "        return tf.transpose(x, perm=[0, 2, 1, 3])\n"
   ]
  },
  {
   "cell_type": "markdown",
   "metadata": {
    "id": "cagXhpgbJleO"
   },
   "source": [
    "## Build the ViT model"
   ]
  },
  {
   "cell_type": "code",
   "execution_count": 10,
   "metadata": {
    "id": "tI7PlTM1Oc8l"
   },
   "outputs": [],
   "source": [
    "from tensorflow import math, matmul, reshape, shape, transpose, cast, float32\n",
    "from tensorflow.keras.layers import Dense, Layer\n",
    "from tensorflow.keras.backend import softmax"
   ]
  },
  {
   "cell_type": "code",
   "execution_count": 11,
   "metadata": {},
   "outputs": [],
   "source": [
    "class My_MultiHeadAttention(layers.Layer):\n",
    "    def __init__(self, embed_dim, num_heads, value_dim, output_dim):\n",
    "        super(My_MultiHeadAttention, self).__init__()\n",
    "        self.num_heads = num_heads\n",
    "        self.embed_dim = embed_dim\n",
    "        self.value_dim = value_dim\n",
    "        self.output_dim = output_dim\n",
    "        \n",
    "        assert embed_dim % num_heads == 0\n",
    "        assert value_dim % num_heads == 0\n",
    "        \n",
    "        self.projection_dim = embed_dim // num_heads\n",
    "        self.value_projection_dim = value_dim // num_heads\n",
    "\n",
    "        self.query_dense = layers.Dense(embed_dim)\n",
    "        self.key_dense = layers.Dense(embed_dim)\n",
    "        self.value_dense = layers.Dense(value_dim)\n",
    "        self.output_dense = layers.Dense(output_dim)\n",
    "\n",
    "    def attention(self, query, key, value):\n",
    "        score = tf.matmul(query, key, transpose_b=True)\n",
    "        dim_key = tf.cast(tf.shape(key)[-1], tf.float32)\n",
    "        scaled_score = score / tf.math.sqrt(dim_key)\n",
    "        weights = tf.nn.softmax(scaled_score, axis=-1)\n",
    "        output = tf.matmul(weights, value)\n",
    "        return output\n",
    "\n",
    "    def call(self, inputs):\n",
    "        query, key, value = inputs, inputs, inputs\n",
    "        batch_size = tf.shape(query)[0]\n",
    "\n",
    "        query = self.query_dense(query)\n",
    "        key = self.key_dense(key)\n",
    "        value = self.value_dense(value)\n",
    "\n",
    "        query = self.separate_heads(query, batch_size, self.projection_dim)\n",
    "        key = self.separate_heads(key, batch_size, self.projection_dim)\n",
    "        value = self.separate_heads(value, batch_size, self.value_projection_dim)\n",
    "\n",
    "        attention = self.attention(query, key, value)\n",
    "        attention = tf.transpose(attention, perm=[0, 2, 1, 3])\n",
    "        concat_attention = tf.reshape(attention, (batch_size, -1, self.value_dim))\n",
    "        output = self.output_dense(concat_attention)\n",
    "        return output\n",
    "\n",
    "    def separate_heads(self, x, batch_size, projection_dim):\n",
    "        x = tf.reshape(x, (batch_size, -1, self.num_heads, projection_dim))\n",
    "        return tf.transpose(x, perm=[0, 2, 1, 3])\n",
    "\n",
    "\n",
    "# Updating the ViT model creation\n",
    "def create_vit_classifier():\n",
    "    inputs = keras.Input(shape=input_shape)\n",
    "    augmented = data_augmentation(inputs)\n",
    "    patches = Patches(patch_size)(augmented)\n",
    "    encoded_patches = PatchEncoder(num_patches, projection_dim)(patches)\n",
    "\n",
    "    for _ in range(transformer_layers):\n",
    "        x1 = layers.LayerNormalization(epsilon=1e-6)(encoded_patches)\n",
    "        att_module = My_MultiHeadAttention(embed_dim=128, num_heads=num_heads, value_dim=128, output_dim=64)\n",
    "        attention_output = att_module(x1)\n",
    "        x2 = layers.Add()([attention_output, encoded_patches])\n",
    "        x3 = layers.LayerNormalization(epsilon=1e-6)(x2)\n",
    "        x3 = mlp(x3, hidden_units=transformer_units, dropout_rate=0.1)\n",
    "        encoded_patches = layers.Add()([x3, x2])\n",
    "    \n",
    "    encoded_cls = encoded_patches[:, 0]\n",
    "    representation = layers.LayerNormalization(epsilon=1e-6)(encoded_cls)\n",
    "    representation = layers.Flatten()(representation)\n",
    "    representation = layers.Dropout(0.5)(representation)\n",
    "    features = mlp(representation, hidden_units=mlp_head_units, dropout_rate=0.5)\n",
    "    logits = layers.Dense(num_classes)(features)\n",
    "    model = keras.Model(inputs=inputs, outputs=logits)\n",
    "    return model"
   ]
  },
  {
   "cell_type": "code",
   "execution_count": 12,
   "metadata": {},
   "outputs": [],
   "source": [
    "import tensorflow as tf\n",
    "from tensorflow import keras\n",
    "from tensorflow.keras import layers\n",
    "\n",
    "class My_MultiHeadAttention(layers.Layer):\n",
    "    def __init__(self, embed_dim, num_heads, value_dim, output_dim):\n",
    "        super(My_MultiHeadAttention, self).__init__()\n",
    "        self.num_heads = num_heads\n",
    "        self.embed_dim = embed_dim\n",
    "        self.value_dim = value_dim\n",
    "        self.output_dim = output_dim\n",
    "        \n",
    "        assert embed_dim % num_heads == 0\n",
    "        assert value_dim % num_heads == 0\n",
    "        \n",
    "        self.projection_dim = embed_dim // num_heads\n",
    "        self.value_projection_dim = value_dim // num_heads\n",
    "\n",
    "        self.query_dense = layers.Dense(embed_dim)\n",
    "        self.key_dense = layers.Dense(embed_dim)\n",
    "        self.value_dense = layers.Dense(value_dim)\n",
    "        self.output_dense = layers.Dense(output_dim)\n",
    "\n",
    "    def attention(self, query, key, value):\n",
    "        score = tf.matmul(query, key, transpose_b=True)  # (batch_size, num_heads, n+1, n+1)\n",
    "        dim_key = tf.cast(tf.shape(key)[-1], tf.float32)\n",
    "        scaled_score = score / tf.math.sqrt(dim_key)\n",
    "        weights = tf.nn.softmax(scaled_score, axis=-1)\n",
    "        output = tf.matmul(weights, value)  # (batch_size, num_heads, n+1, value_projection_dim)\n",
    "        return output\n",
    "\n",
    "    def call(self, inputs):\n",
    "        query, key, value = inputs, inputs, inputs\n",
    "        batch_size = tf.shape(query)[0]\n",
    "\n",
    "        query = self.query_dense(query)  # (batch_size, n+1, embed_dim)\n",
    "        key = self.key_dense(key)  # (batch_size, n+1, embed_dim)\n",
    "        value = self.value_dense(value)  # (batch_size, n+1, value_dim)\n",
    "\n",
    "        # Reshape and transpose\n",
    "        query = tf.reshape(query, (batch_size, -1, self.num_heads, self.projection_dim))\n",
    "        query = tf.transpose(query, perm=[0, 2, 1, 3])\n",
    "        \n",
    "        key = tf.reshape(key, (batch_size, -1, self.num_heads, self.projection_dim))\n",
    "        key = tf.transpose(key, perm=[0, 2, 1, 3])\n",
    "        \n",
    "        value = tf.reshape(value, (batch_size, -1, self.num_heads, self.value_projection_dim))\n",
    "        value = tf.transpose(value, perm=[0, 2, 1, 3])\n",
    "\n",
    "        attention = self.attention(query, key, value)\n",
    "        attention = tf.transpose(attention, perm=[0, 2, 1, 3])\n",
    "        # print(\"Attention shape:\", attention.shape)\n",
    "        concat_attention = tf.reshape(attention, (batch_size, -1, self.num_heads * self.value_projection_dim))\n",
    "        # print(\"Concat attention shape:\", concat_attention.shape)\n",
    "        output = self.output_dense(concat_attention)  # (batch_size, n+1, output_dim)\n",
    "        # print(\"Output shape:\", output.shape)\n",
    "        return output\n",
    "\n",
    "# Example usage\n",
    "def create_vit_classifier():\n",
    "    inputs = keras.Input(shape=input_shape)\n",
    "    augmented = data_augmentation(inputs)\n",
    "    patches = Patches(patch_size)(augmented)\n",
    "    encoded_patches = PatchEncoder(num_patches, projection_dim)(patches)\n",
    "\n",
    "    for _ in range(transformer_layers):\n",
    "        x1 = layers.LayerNormalization(epsilon=1e-6)(encoded_patches)\n",
    "        att_module = My_MultiHeadAttention(embed_dim=128, num_heads=2, value_dim=128, output_dim=64)\n",
    "        attention_output = att_module(x1)\n",
    "        x2 = layers.Add()([attention_output, encoded_patches])\n",
    "        x3 = layers.LayerNormalization(epsilon=1e-6)(x2)\n",
    "        x3 = mlp(x3, hidden_units=transformer_units, dropout_rate=0.1)\n",
    "        encoded_patches = layers.Add()([x3, x2])\n",
    "    \n",
    "    encoded_cls = encoded_patches[:, 0]\n",
    "    representation = layers.LayerNormalization(epsilon=1e-6)(encoded_cls)\n",
    "    representation = layers.Flatten()(representation)\n",
    "    representation = layers.Dropout(0.5)(representation)\n",
    "    features = mlp(representation, hidden_units=mlp_head_units, dropout_rate=0.5)\n",
    "    logits = layers.Dense(num_classes)(features)\n",
    "    model = keras.Model(inputs=inputs, outputs=logits)\n",
    "    return model"
   ]
  },
  {
   "cell_type": "markdown",
   "metadata": {
    "id": "WlRseeIkJleO"
   },
   "source": [
    "## Compile, train, and evaluate the mode"
   ]
  },
  {
   "cell_type": "code",
   "execution_count": 13,
   "metadata": {
    "id": "qqz9Va56JleO"
   },
   "outputs": [],
   "source": [
    "def plot_history(history, item):\n",
    "    plt.plot(history.history[item], label=item)\n",
    "    plt.plot(history.history[\"val_\" + item], label=\"val_\" + item)\n",
    "    plt.xlabel(\"Epochs\")\n",
    "    plt.ylabel(item)\n",
    "    plt.title(\"Train and Validation {} Over Epochs\".format(item), fontsize=14)\n",
    "    plt.legend()\n",
    "    plt.grid()\n",
    "    plt.show()"
   ]
  },
  {
   "cell_type": "code",
   "execution_count": 14,
   "metadata": {
    "id": "YP8vzv9zYBoq"
   },
   "outputs": [],
   "source": [
    "vit_classifier = create_vit_classifier()"
   ]
  },
  {
   "cell_type": "code",
   "execution_count": 15,
   "metadata": {
    "id": "sry2XIbwPLkk"
   },
   "outputs": [
    {
     "name": "stderr",
     "output_type": "stream",
     "text": [
      "/root/miniconda3/lib/python3.8/site-packages/tensorflow_addons/utils/tfa_eol_msg.py:23: UserWarning: \n",
      "\n",
      "TensorFlow Addons (TFA) has ended development and introduction of new features.\n",
      "TFA has entered a minimal maintenance and release mode until a planned end of life in May 2024.\n",
      "Please modify downstream libraries to take dependencies from other repositories in our TensorFlow community (e.g. Keras, Keras-CV, and Keras-NLP). \n",
      "\n",
      "For more information see: https://github.com/tensorflow/addons/issues/2807 \n",
      "\n",
      "  warnings.warn(\n",
      "/root/miniconda3/lib/python3.8/site-packages/tensorflow_addons/utils/ensure_tf_install.py:53: UserWarning: Tensorflow Addons supports using Python ops for all Tensorflow versions above or equal to 2.11.0 and strictly below 2.14.0 (nightly versions are not supported). \n",
      " The versions of TensorFlow you are currently using is 2.9.0 and is not supported. \n",
      "Some things might work, some things might not.\n",
      "If you were to encounter a bug, do not file an issue.\n",
      "If you want to make sure you're using a tested and supported configuration, either change the TensorFlow version or the TensorFlow Addons's version. \n",
      "You can find the compatibility matrix in TensorFlow Addon's readme:\n",
      "https://github.com/tensorflow/addons\n",
      "  warnings.warn(\n"
     ]
    },
    {
     "name": "stdout",
     "output_type": "stream",
     "text": [
      "Epoch 1/100\n",
      "  1/176 [..............................] - ETA: 35:41 - loss: 4.6542 - accuracy: 0.0000e+00"
     ]
    },
    {
     "name": "stderr",
     "output_type": "stream",
     "text": [
      "2024-08-28 14:56:41.517111: I tensorflow/stream_executor/cuda/cuda_blas.cc:1786] TensorFloat-32 will be used for the matrix multiplication. This will only be logged once.\n"
     ]
    },
    {
     "name": "stdout",
     "output_type": "stream",
     "text": [
      "176/176 [==============================] - 37s 141ms/step - loss: 4.1980 - accuracy: 0.0559 - val_loss: 3.8113 - val_accuracy: 0.1012\n",
      "Epoch 2/100\n",
      "176/176 [==============================] - 23s 129ms/step - loss: 3.8488 - accuracy: 0.0999 - val_loss: 3.5932 - val_accuracy: 0.1384\n",
      "Epoch 3/100\n",
      "176/176 [==============================] - 23s 129ms/step - loss: 3.6920 - accuracy: 0.1225 - val_loss: 3.4365 - val_accuracy: 0.1676\n",
      "Epoch 4/100\n",
      "176/176 [==============================] - 23s 130ms/step - loss: 3.5359 - accuracy: 0.1487 - val_loss: 3.2709 - val_accuracy: 0.1928\n",
      "Epoch 5/100\n",
      "176/176 [==============================] - 23s 130ms/step - loss: 3.4208 - accuracy: 0.1672 - val_loss: 3.2353 - val_accuracy: 0.1956\n",
      "Epoch 6/100\n",
      "176/176 [==============================] - 23s 129ms/step - loss: 3.3412 - accuracy: 0.1813 - val_loss: 3.1071 - val_accuracy: 0.2240\n",
      "Epoch 7/100\n",
      "176/176 [==============================] - 23s 130ms/step - loss: 3.2579 - accuracy: 0.1955 - val_loss: 3.0503 - val_accuracy: 0.2376\n",
      "Epoch 8/100\n",
      "176/176 [==============================] - 23s 129ms/step - loss: 3.1927 - accuracy: 0.2079 - val_loss: 2.9720 - val_accuracy: 0.2500\n",
      "Epoch 9/100\n",
      "176/176 [==============================] - 23s 128ms/step - loss: 3.1270 - accuracy: 0.2190 - val_loss: 2.9119 - val_accuracy: 0.2692\n",
      "Epoch 10/100\n",
      "176/176 [==============================] - 23s 128ms/step - loss: 3.0901 - accuracy: 0.2269 - val_loss: 2.8659 - val_accuracy: 0.2736\n",
      "Epoch 11/100\n",
      "176/176 [==============================] - 22s 128ms/step - loss: 3.0367 - accuracy: 0.2374 - val_loss: 2.7969 - val_accuracy: 0.2868\n",
      "Epoch 12/100\n",
      "176/176 [==============================] - 24s 135ms/step - loss: 2.9980 - accuracy: 0.2422 - val_loss: 2.7685 - val_accuracy: 0.2912\n",
      "Epoch 13/100\n",
      "176/176 [==============================] - 23s 129ms/step - loss: 2.9628 - accuracy: 0.2500 - val_loss: 2.7302 - val_accuracy: 0.2958\n",
      "Epoch 14/100\n",
      "176/176 [==============================] - 23s 131ms/step - loss: 2.9201 - accuracy: 0.2574 - val_loss: 2.6820 - val_accuracy: 0.3066\n",
      "Epoch 15/100\n",
      "176/176 [==============================] - 23s 130ms/step - loss: 2.8837 - accuracy: 0.2678 - val_loss: 2.6517 - val_accuracy: 0.3164\n",
      "Epoch 16/100\n",
      "176/176 [==============================] - 23s 131ms/step - loss: 2.8567 - accuracy: 0.2718 - val_loss: 2.6356 - val_accuracy: 0.3182\n",
      "Epoch 17/100\n",
      "176/176 [==============================] - 23s 129ms/step - loss: 2.8234 - accuracy: 0.2798 - val_loss: 2.6011 - val_accuracy: 0.3288\n",
      "Epoch 18/100\n",
      "176/176 [==============================] - 23s 131ms/step - loss: 2.8003 - accuracy: 0.2850 - val_loss: 2.5963 - val_accuracy: 0.3280\n",
      "Epoch 19/100\n",
      "176/176 [==============================] - 24s 134ms/step - loss: 2.7747 - accuracy: 0.2860 - val_loss: 2.5295 - val_accuracy: 0.3406\n",
      "Epoch 20/100\n",
      "176/176 [==============================] - 22s 127ms/step - loss: 2.7507 - accuracy: 0.2920 - val_loss: 2.5358 - val_accuracy: 0.3362\n",
      "Epoch 21/100\n",
      "176/176 [==============================] - 24s 136ms/step - loss: 2.7172 - accuracy: 0.2987 - val_loss: 2.5295 - val_accuracy: 0.3474\n",
      "Epoch 22/100\n",
      "176/176 [==============================] - 24s 138ms/step - loss: 2.6909 - accuracy: 0.3030 - val_loss: 2.5335 - val_accuracy: 0.3404\n",
      "Epoch 23/100\n",
      "176/176 [==============================] - 23s 132ms/step - loss: 2.6770 - accuracy: 0.3092 - val_loss: 2.4840 - val_accuracy: 0.3538\n",
      "Epoch 24/100\n",
      "176/176 [==============================] - 23s 131ms/step - loss: 2.6557 - accuracy: 0.3107 - val_loss: 2.5041 - val_accuracy: 0.3534\n",
      "Epoch 25/100\n",
      "176/176 [==============================] - 23s 131ms/step - loss: 2.6352 - accuracy: 0.3157 - val_loss: 2.4598 - val_accuracy: 0.3532\n",
      "Epoch 26/100\n",
      "176/176 [==============================] - 23s 132ms/step - loss: 2.6236 - accuracy: 0.3198 - val_loss: 2.3913 - val_accuracy: 0.3696\n",
      "Epoch 27/100\n",
      "176/176 [==============================] - 23s 132ms/step - loss: 2.6004 - accuracy: 0.3233 - val_loss: 2.4184 - val_accuracy: 0.3666\n",
      "Epoch 28/100\n",
      "176/176 [==============================] - 23s 131ms/step - loss: 2.5893 - accuracy: 0.3234 - val_loss: 2.4199 - val_accuracy: 0.3666\n",
      "Epoch 29/100\n",
      "176/176 [==============================] - 23s 129ms/step - loss: 2.5626 - accuracy: 0.3337 - val_loss: 2.4212 - val_accuracy: 0.3736\n",
      "Epoch 30/100\n",
      "176/176 [==============================] - 24s 137ms/step - loss: 2.5610 - accuracy: 0.3342 - val_loss: 2.3583 - val_accuracy: 0.3812\n",
      "Epoch 31/100\n",
      "176/176 [==============================] - 23s 130ms/step - loss: 2.5415 - accuracy: 0.3370 - val_loss: 2.3620 - val_accuracy: 0.3826\n",
      "Epoch 32/100\n",
      "176/176 [==============================] - 22s 128ms/step - loss: 2.5308 - accuracy: 0.3390 - val_loss: 2.4005 - val_accuracy: 0.3732\n",
      "Epoch 33/100\n",
      "176/176 [==============================] - 24s 135ms/step - loss: 2.4972 - accuracy: 0.3469 - val_loss: 2.3681 - val_accuracy: 0.3828\n",
      "Epoch 34/100\n",
      "176/176 [==============================] - 23s 132ms/step - loss: 2.4885 - accuracy: 0.3479 - val_loss: 2.3414 - val_accuracy: 0.3776\n",
      "Epoch 35/100\n",
      "176/176 [==============================] - 23s 132ms/step - loss: 2.4878 - accuracy: 0.3484 - val_loss: 2.3244 - val_accuracy: 0.3852\n",
      "Epoch 36/100\n",
      "176/176 [==============================] - 23s 129ms/step - loss: 2.4510 - accuracy: 0.3583 - val_loss: 2.3375 - val_accuracy: 0.3878\n",
      "Epoch 37/100\n",
      "176/176 [==============================] - 23s 130ms/step - loss: 2.4466 - accuracy: 0.3563 - val_loss: 2.3364 - val_accuracy: 0.3798\n",
      "Epoch 38/100\n",
      "176/176 [==============================] - 23s 129ms/step - loss: 2.4358 - accuracy: 0.3575 - val_loss: 2.3403 - val_accuracy: 0.3838\n",
      "Epoch 39/100\n",
      "176/176 [==============================] - 23s 129ms/step - loss: 2.4314 - accuracy: 0.3611 - val_loss: 2.3137 - val_accuracy: 0.3880\n",
      "Epoch 40/100\n",
      "176/176 [==============================] - 23s 129ms/step - loss: 2.4122 - accuracy: 0.3658 - val_loss: 2.3015 - val_accuracy: 0.3918\n",
      "Epoch 41/100\n",
      "176/176 [==============================] - 23s 130ms/step - loss: 2.3978 - accuracy: 0.3687 - val_loss: 2.2826 - val_accuracy: 0.3984\n",
      "Epoch 42/100\n",
      "176/176 [==============================] - 23s 130ms/step - loss: 2.3899 - accuracy: 0.3725 - val_loss: 2.2998 - val_accuracy: 0.4010\n",
      "Epoch 43/100\n",
      "176/176 [==============================] - 22s 127ms/step - loss: 2.3770 - accuracy: 0.3731 - val_loss: 2.2859 - val_accuracy: 0.3860\n",
      "Epoch 44/100\n",
      "176/176 [==============================] - 23s 129ms/step - loss: 2.3740 - accuracy: 0.3736 - val_loss: 2.2616 - val_accuracy: 0.4110\n",
      "Epoch 45/100\n",
      "176/176 [==============================] - 22s 128ms/step - loss: 2.3538 - accuracy: 0.3786 - val_loss: 2.2493 - val_accuracy: 0.4024\n",
      "Epoch 46/100\n",
      "176/176 [==============================] - 23s 129ms/step - loss: 2.3337 - accuracy: 0.3822 - val_loss: 2.2389 - val_accuracy: 0.4014\n",
      "Epoch 47/100\n",
      "176/176 [==============================] - 23s 130ms/step - loss: 2.3313 - accuracy: 0.3829 - val_loss: 2.2466 - val_accuracy: 0.4028\n",
      "Epoch 48/100\n",
      "176/176 [==============================] - 23s 129ms/step - loss: 2.3262 - accuracy: 0.3840 - val_loss: 2.2108 - val_accuracy: 0.4192\n",
      "Epoch 49/100\n",
      "176/176 [==============================] - 24s 136ms/step - loss: 2.3135 - accuracy: 0.3847 - val_loss: 2.2458 - val_accuracy: 0.4054\n",
      "Epoch 50/100\n",
      "176/176 [==============================] - 23s 129ms/step - loss: 2.3114 - accuracy: 0.3882 - val_loss: 2.1951 - val_accuracy: 0.4172\n",
      "Epoch 51/100\n",
      "176/176 [==============================] - 23s 128ms/step - loss: 2.2900 - accuracy: 0.3925 - val_loss: 2.2374 - val_accuracy: 0.4150\n",
      "Epoch 52/100\n",
      "176/176 [==============================] - 22s 128ms/step - loss: 2.2935 - accuracy: 0.3938 - val_loss: 2.2036 - val_accuracy: 0.4148\n",
      "Epoch 53/100\n",
      "176/176 [==============================] - 23s 130ms/step - loss: 2.2604 - accuracy: 0.3977 - val_loss: 2.2450 - val_accuracy: 0.4078\n",
      "Epoch 54/100\n",
      "176/176 [==============================] - 22s 127ms/step - loss: 2.2685 - accuracy: 0.3961 - val_loss: 2.2308 - val_accuracy: 0.4064\n",
      "Epoch 55/100\n",
      "176/176 [==============================] - 23s 131ms/step - loss: 2.2546 - accuracy: 0.3986 - val_loss: 2.1824 - val_accuracy: 0.4134\n",
      "Epoch 56/100\n",
      "176/176 [==============================] - 23s 128ms/step - loss: 2.2537 - accuracy: 0.4019 - val_loss: 2.1907 - val_accuracy: 0.4178\n",
      "Epoch 57/100\n",
      "176/176 [==============================] - 23s 130ms/step - loss: 2.2406 - accuracy: 0.4064 - val_loss: 2.1797 - val_accuracy: 0.4248\n",
      "Epoch 58/100\n",
      "176/176 [==============================] - 23s 128ms/step - loss: 2.2352 - accuracy: 0.4046 - val_loss: 2.1553 - val_accuracy: 0.4266\n",
      "Epoch 59/100\n",
      "176/176 [==============================] - 23s 132ms/step - loss: 2.2256 - accuracy: 0.4070 - val_loss: 2.1497 - val_accuracy: 0.4296\n",
      "Epoch 60/100\n",
      "176/176 [==============================] - 23s 129ms/step - loss: 2.2149 - accuracy: 0.4133 - val_loss: 2.1691 - val_accuracy: 0.4248\n",
      "Epoch 61/100\n",
      "176/176 [==============================] - 23s 129ms/step - loss: 2.2109 - accuracy: 0.4107 - val_loss: 2.1599 - val_accuracy: 0.4314\n",
      "Epoch 62/100\n",
      "176/176 [==============================] - 23s 128ms/step - loss: 2.2050 - accuracy: 0.4118 - val_loss: 2.1865 - val_accuracy: 0.4142\n",
      "Epoch 63/100\n",
      "176/176 [==============================] - 23s 128ms/step - loss: 2.2043 - accuracy: 0.4120 - val_loss: 2.2166 - val_accuracy: 0.4216\n",
      "Epoch 64/100\n",
      "176/176 [==============================] - 23s 134ms/step - loss: 2.1917 - accuracy: 0.4142 - val_loss: 2.1391 - val_accuracy: 0.4254\n",
      "Epoch 65/100\n",
      "176/176 [==============================] - 24s 134ms/step - loss: 2.1880 - accuracy: 0.4163 - val_loss: 2.1279 - val_accuracy: 0.4298\n",
      "Epoch 66/100\n",
      "176/176 [==============================] - 23s 128ms/step - loss: 2.1670 - accuracy: 0.4207 - val_loss: 2.0893 - val_accuracy: 0.4368\n",
      "Epoch 67/100\n",
      "176/176 [==============================] - 24s 136ms/step - loss: 2.1712 - accuracy: 0.4228 - val_loss: 2.1300 - val_accuracy: 0.4320\n",
      "Epoch 68/100\n",
      "176/176 [==============================] - 23s 129ms/step - loss: 2.1600 - accuracy: 0.4243 - val_loss: 2.1276 - val_accuracy: 0.4372\n",
      "Epoch 69/100\n",
      "176/176 [==============================] - 23s 130ms/step - loss: 2.1645 - accuracy: 0.4233 - val_loss: 2.0941 - val_accuracy: 0.4388\n",
      "Epoch 70/100\n",
      "176/176 [==============================] - 23s 129ms/step - loss: 2.1474 - accuracy: 0.4267 - val_loss: 2.1178 - val_accuracy: 0.4362\n",
      "Epoch 71/100\n",
      "176/176 [==============================] - 23s 129ms/step - loss: 2.1441 - accuracy: 0.4279 - val_loss: 2.1567 - val_accuracy: 0.4282\n",
      "Epoch 72/100\n",
      "176/176 [==============================] - 23s 131ms/step - loss: 2.1360 - accuracy: 0.4264 - val_loss: 2.0728 - val_accuracy: 0.4450\n",
      "Epoch 73/100\n",
      "176/176 [==============================] - 23s 130ms/step - loss: 2.1249 - accuracy: 0.4297 - val_loss: 2.1429 - val_accuracy: 0.4300\n",
      "Epoch 74/100\n",
      "176/176 [==============================] - 23s 129ms/step - loss: 2.1355 - accuracy: 0.4305 - val_loss: 2.1349 - val_accuracy: 0.4324\n",
      "Epoch 75/100\n",
      "176/176 [==============================] - 23s 129ms/step - loss: 2.1212 - accuracy: 0.4340 - val_loss: 2.1244 - val_accuracy: 0.4380\n",
      "Epoch 76/100\n",
      "176/176 [==============================] - 23s 130ms/step - loss: 2.1156 - accuracy: 0.4336 - val_loss: 2.0759 - val_accuracy: 0.4426\n",
      "Epoch 77/100\n",
      "176/176 [==============================] - 23s 131ms/step - loss: 2.1032 - accuracy: 0.4372 - val_loss: 2.0880 - val_accuracy: 0.4458\n",
      "Epoch 78/100\n",
      "176/176 [==============================] - 23s 133ms/step - loss: 2.1098 - accuracy: 0.4378 - val_loss: 2.1094 - val_accuracy: 0.4444\n",
      "Epoch 79/100\n",
      "176/176 [==============================] - 23s 130ms/step - loss: 2.1037 - accuracy: 0.4394 - val_loss: 2.0814 - val_accuracy: 0.4578\n",
      "Epoch 80/100\n",
      "176/176 [==============================] - 23s 130ms/step - loss: 2.0930 - accuracy: 0.4400 - val_loss: 2.0790 - val_accuracy: 0.4462\n",
      "Epoch 81/100\n",
      "176/176 [==============================] - 23s 131ms/step - loss: 2.0939 - accuracy: 0.4408 - val_loss: 2.0830 - val_accuracy: 0.4404\n",
      "Epoch 82/100\n",
      "176/176 [==============================] - 23s 130ms/step - loss: 2.0805 - accuracy: 0.4445 - val_loss: 2.0914 - val_accuracy: 0.4464\n",
      "Epoch 83/100\n",
      "176/176 [==============================] - 23s 131ms/step - loss: 2.0785 - accuracy: 0.4426 - val_loss: 2.0341 - val_accuracy: 0.4562\n",
      "Epoch 84/100\n",
      "176/176 [==============================] - 23s 132ms/step - loss: 2.0706 - accuracy: 0.4438 - val_loss: 2.0596 - val_accuracy: 0.4508\n",
      "Epoch 85/100\n",
      "176/176 [==============================] - 23s 133ms/step - loss: 2.0711 - accuracy: 0.4448 - val_loss: 2.0850 - val_accuracy: 0.4412\n",
      "Epoch 86/100\n",
      "176/176 [==============================] - 23s 130ms/step - loss: 2.0548 - accuracy: 0.4486 - val_loss: 2.0691 - val_accuracy: 0.4476\n",
      "Epoch 87/100\n",
      "176/176 [==============================] - 23s 130ms/step - loss: 2.0516 - accuracy: 0.4507 - val_loss: 2.0879 - val_accuracy: 0.4540\n",
      "Epoch 88/100\n",
      "176/176 [==============================] - 23s 130ms/step - loss: 2.0479 - accuracy: 0.4513 - val_loss: 2.0687 - val_accuracy: 0.4524\n",
      "Epoch 89/100\n",
      "176/176 [==============================] - 23s 130ms/step - loss: 2.0511 - accuracy: 0.4503 - val_loss: 2.0341 - val_accuracy: 0.4608\n",
      "Epoch 90/100\n",
      "176/176 [==============================] - 23s 131ms/step - loss: 2.0436 - accuracy: 0.4498 - val_loss: 2.0526 - val_accuracy: 0.4552\n",
      "Epoch 91/100\n",
      "176/176 [==============================] - 23s 131ms/step - loss: 2.0205 - accuracy: 0.4536 - val_loss: 2.0810 - val_accuracy: 0.4446\n",
      "Epoch 92/100\n",
      "176/176 [==============================] - 23s 130ms/step - loss: 2.0278 - accuracy: 0.4563 - val_loss: 2.0444 - val_accuracy: 0.4620\n",
      "Epoch 93/100\n",
      "176/176 [==============================] - 23s 130ms/step - loss: 2.0244 - accuracy: 0.4590 - val_loss: 2.0498 - val_accuracy: 0.4632\n",
      "Epoch 94/100\n",
      "176/176 [==============================] - 23s 130ms/step - loss: 2.0200 - accuracy: 0.4569 - val_loss: 2.0587 - val_accuracy: 0.4512\n",
      "Epoch 95/100\n",
      "176/176 [==============================] - 24s 135ms/step - loss: 2.0089 - accuracy: 0.4620 - val_loss: 2.0687 - val_accuracy: 0.4524\n",
      "Epoch 96/100\n",
      "176/176 [==============================] - 24s 136ms/step - loss: 2.0155 - accuracy: 0.4564 - val_loss: 2.0217 - val_accuracy: 0.4604\n",
      "Epoch 97/100\n",
      "176/176 [==============================] - 24s 135ms/step - loss: 2.0058 - accuracy: 0.4618 - val_loss: 2.0294 - val_accuracy: 0.4576\n",
      "Epoch 98/100\n",
      "176/176 [==============================] - 24s 135ms/step - loss: 2.0010 - accuracy: 0.4610 - val_loss: 2.0423 - val_accuracy: 0.4628\n",
      "Epoch 99/100\n",
      "176/176 [==============================] - 24s 135ms/step - loss: 2.0008 - accuracy: 0.4617 - val_loss: 2.0614 - val_accuracy: 0.4566\n",
      "Epoch 100/100\n",
      "176/176 [==============================] - 24s 135ms/step - loss: 1.9922 - accuracy: 0.4659 - val_loss: 2.0254 - val_accuracy: 0.4510\n"
     ]
    },
    {
     "data": {
      "image/png": "[encoded data removed]",
      "text/plain": [
       "<Figure size 640x480 with 1 Axes>"
      ]
     },
     "metadata": {},
     "output_type": "display_data"
    },
    {
     "data": {
      "image/png": "[encoded data removed]",
      "text/plain": [
       "<Figure size 640x480 with 1 Axes>"
      ]
     },
     "metadata": {},
     "output_type": "display_data"
    }
   ],
   "source": [
    "# optimizer = keras.optimizers.AdamW(\n",
    "#         learning_rate=learning_rate, weight_decay=weight_decay\n",
    "#     )\n",
    "import tensorflow_addons as tfa\n",
    "\n",
    "optimizer = tfa.optimizers.AdamW(\n",
    "    learning_rate=learning_rate, weight_decay=weight_decay\n",
    ")\n",
    "vit_classifier.compile(\n",
    "    optimizer=optimizer,\n",
    "    loss=keras.losses.SparseCategoricalCrossentropy(from_logits=True),\n",
    "    metrics=[\"accuracy\"],\n",
    ")\n",
    "\n",
    "checkpoint_filepath = \"/tmp/checkpoint.weights.h5\"\n",
    "checkpoint_callback = keras.callbacks.ModelCheckpoint(\n",
    "    checkpoint_filepath,\n",
    "    monitor=\"val_accuracy\",\n",
    "    save_best_only=True,\n",
    "    save_weights_only=True,\n",
    ")\n",
    "\n",
    "history = vit_classifier.fit(\n",
    "    x=x_train,\n",
    "    y=y_train,\n",
    "    batch_size=batch_size,\n",
    "    epochs=100,\n",
    "    validation_split=0.1,\n",
    "    callbacks=[checkpoint_callback],\n",
    ")\n",
    "plot_history(history, \"loss\")\n",
    "plot_history(history, \"accuracy\")"
   ]
  },
  {
   "cell_type": "code",
   "execution_count": 16,
   "metadata": {
    "id": "7bESAroYPbnG"
   },
   "outputs": [
    {
     "name": "stdout",
     "output_type": "stream",
     "text": [
      "313/313 [==============================] - 5s 15ms/step - loss: 2.0287 - accuracy: 0.4698\n",
      "Test accuracy: 46.98%\n"
     ]
    }
   ],
   "source": [
    "# Load weights from the checkpoint file and evaluate\n",
    "vit_classifier.load_weights(checkpoint_filepath)\n",
    "_, accuracy = vit_classifier.evaluate(x_test, y_test)\n",
    "print(f\"Test accuracy: {round(accuracy * 100, 2)}%\")"
   ]
  },
  {
   "cell_type": "markdown",
   "metadata": {
    "id": "9QCTVqc2Gz_f"
   },
   "source": [
    "# Task 4 - Implement the MultiHeadAttention layer from scratch"
   ]
  },
  {
   "cell_type": "code",
   "execution_count": 14,
   "metadata": {
    "id": "XnWKcdFWG6B-"
   },
   "outputs": [],
   "source": [
    "def create_vit_classifier(patch_size, num_heads, projection_dim, transformer_layers):\n",
    "    inputs = keras.Input(shape=input_shape)\n",
    "    augmented = data_augmentation(inputs)\n",
    "    patches = Patches(patch_size)(augmented)\n",
    "    num_patches = (input_shape[0] // patch_size) ** 2\n",
    "    encoded_patches = PatchEncoder(num_patches, projection_dim)(patches)\n",
    "\n",
    "    for _ in range(transformer_layers):\n",
    "        x1 = layers.LayerNormalization(epsilon=1e-6)(encoded_patches)\n",
    "        att_module = My_MultiHeadAttention(\n",
    "            embed_dim=projection_dim, num_heads=num_heads, value_dim=projection_dim, output_dim=projection_dim\n",
    "        )\n",
    "        attention_output = att_module(x1)\n",
    "        x2 = layers.Add()([attention_output, encoded_patches])\n",
    "        x3 = layers.LayerNormalization(epsilon=1e-6)(x2)\n",
    "        x3 = mlp(x3, hidden_units=transformer_units, dropout_rate=0.1)\n",
    "        encoded_patches = layers.Add()([x3, x2])\n",
    "    \n",
    "    encoded_cls = encoded_patches[:, 0]\n",
    "    representation = layers.LayerNormalization(epsilon=1e-6)(encoded_cls)\n",
    "    representation = layers.Flatten()(representation)\n",
    "    representation = layers.Dropout(0.5)(representation)\n",
    "    features = mlp(representation, hidden_units=mlp_head_units, dropout_rate=0.5)\n",
    "    logits = layers.Dense(num_classes)(features)\n",
    "    model = keras.Model(inputs=inputs, outputs=logits)\n",
    "    return model"
   ]
  },
  {
   "cell_type": "code",
   "execution_count": 20,
   "metadata": {},
   "outputs": [
    {
     "name": "stdout",
     "output_type": "stream",
     "text": [
      "Training with patch_size=4\n",
      "Epoch 1/20\n"
     ]
    },
    {
     "name": "stderr",
     "output_type": "stream",
     "text": [
      "2024-08-28 22:07:15.313402: I tensorflow/stream_executor/cuda/cuda_blas.cc:1786] TensorFloat-32 will be used for the matrix multiplication. This will only be logged once.\n"
     ]
    },
    {
     "name": "stdout",
     "output_type": "stream",
     "text": [
      "176/176 [==============================] - 104s 523ms/step - loss: 4.2049 - accuracy: 0.0562 - val_loss: 3.8458 - val_accuracy: 0.1032\n",
      "Epoch 2/20\n",
      "126/176 [====================>.........] - ETA: 24s - loss: 3.8510 - accuracy: 0.0966"
     ]
    },
    {
     "ename": "KeyboardInterrupt",
     "evalue": "",
     "output_type": "error",
     "traceback": [
      "\u001b[0;31m---------------------------------------------------------------------------\u001b[0m",
      "\u001b[0;31mKeyboardInterrupt\u001b[0m                         Traceback (most recent call last)",
      "Input \u001b[0;32mIn [20]\u001b[0m, in \u001b[0;36m<cell line: 88>\u001b[0;34m()\u001b[0m\n\u001b[1;32m     85\u001b[0m best_val_accuracy \u001b[38;5;241m=\u001b[39m \u001b[38;5;241m0\u001b[39m\n\u001b[1;32m     86\u001b[0m best_hyperparameters \u001b[38;5;241m=\u001b[39m {}\n\u001b[0;32m---> 88\u001b[0m \u001b[43mevaluate_hyperparameters\u001b[49m\u001b[43m(\u001b[49m\u001b[38;5;124;43m\"\u001b[39;49m\u001b[38;5;124;43mpatch_size\u001b[39;49m\u001b[38;5;124;43m\"\u001b[39;49m\u001b[43m,\u001b[49m\u001b[43m \u001b[49m\u001b[43m[\u001b[49m\u001b[38;5;241;43m4\u001b[39;49m\u001b[43m,\u001b[49m\u001b[43m \u001b[49m\u001b[38;5;241;43m8\u001b[39;49m\u001b[43m,\u001b[49m\u001b[43m \u001b[49m\u001b[38;5;241;43m16\u001b[39;49m\u001b[43m]\u001b[49m\u001b[43m,\u001b[49m\u001b[43m \u001b[49m\u001b[43mbase_params\u001b[49m\u001b[43m)\u001b[49m\n\u001b[1;32m     89\u001b[0m evaluate_hyperparameters(\u001b[38;5;124m\"\u001b[39m\u001b[38;5;124mnum_heads\u001b[39m\u001b[38;5;124m\"\u001b[39m, [\u001b[38;5;241m2\u001b[39m, \u001b[38;5;241m4\u001b[39m, \u001b[38;5;241m8\u001b[39m], base_params)\n\u001b[1;32m     90\u001b[0m evaluate_hyperparameters(\u001b[38;5;124m\"\u001b[39m\u001b[38;5;124mprojection_dim\u001b[39m\u001b[38;5;124m\"\u001b[39m, [\u001b[38;5;241m64\u001b[39m, \u001b[38;5;241m128\u001b[39m, \u001b[38;5;241m256\u001b[39m], base_params)\n",
      "Input \u001b[0;32mIn [20]\u001b[0m, in \u001b[0;36mevaluate_hyperparameters\u001b[0;34m(param_name, values, base_params)\u001b[0m\n\u001b[1;32m     47\u001b[0m vit_classifier \u001b[38;5;241m=\u001b[39m create_vit_classifier(\n\u001b[1;32m     48\u001b[0m     params[\u001b[38;5;124m'\u001b[39m\u001b[38;5;124mpatch_size\u001b[39m\u001b[38;5;124m'\u001b[39m], \n\u001b[1;32m     49\u001b[0m     params[\u001b[38;5;124m'\u001b[39m\u001b[38;5;124mnum_heads\u001b[39m\u001b[38;5;124m'\u001b[39m], \n\u001b[1;32m     50\u001b[0m     params[\u001b[38;5;124m'\u001b[39m\u001b[38;5;124mprojection_dim\u001b[39m\u001b[38;5;124m'\u001b[39m], \n\u001b[1;32m     51\u001b[0m     params[\u001b[38;5;124m'\u001b[39m\u001b[38;5;124mtransformer_layers\u001b[39m\u001b[38;5;124m'\u001b[39m]\n\u001b[1;32m     52\u001b[0m )\n\u001b[1;32m     54\u001b[0m vit_classifier\u001b[38;5;241m.\u001b[39mcompile(\n\u001b[1;32m     55\u001b[0m     optimizer\u001b[38;5;241m=\u001b[39moptimizer,\n\u001b[1;32m     56\u001b[0m     loss\u001b[38;5;241m=\u001b[39mkeras\u001b[38;5;241m.\u001b[39mlosses\u001b[38;5;241m.\u001b[39mSparseCategoricalCrossentropy(from_logits\u001b[38;5;241m=\u001b[39m\u001b[38;5;28;01mTrue\u001b[39;00m),\n\u001b[1;32m     57\u001b[0m     metrics\u001b[38;5;241m=\u001b[39m[\u001b[38;5;124m\"\u001b[39m\u001b[38;5;124maccuracy\u001b[39m\u001b[38;5;124m\"\u001b[39m],\n\u001b[1;32m     58\u001b[0m )\n\u001b[0;32m---> 60\u001b[0m history \u001b[38;5;241m=\u001b[39m \u001b[43mvit_classifier\u001b[49m\u001b[38;5;241;43m.\u001b[39;49m\u001b[43mfit\u001b[49m\u001b[43m(\u001b[49m\n\u001b[1;32m     61\u001b[0m \u001b[43m    \u001b[49m\u001b[43mx\u001b[49m\u001b[38;5;241;43m=\u001b[39;49m\u001b[43mx_train\u001b[49m\u001b[43m,\u001b[49m\n\u001b[1;32m     62\u001b[0m \u001b[43m    \u001b[49m\u001b[43my\u001b[49m\u001b[38;5;241;43m=\u001b[39;49m\u001b[43my_train\u001b[49m\u001b[43m,\u001b[49m\n\u001b[1;32m     63\u001b[0m \u001b[43m    \u001b[49m\u001b[43mbatch_size\u001b[49m\u001b[38;5;241;43m=\u001b[39;49m\u001b[43mbatch_size\u001b[49m\u001b[43m,\u001b[49m\n\u001b[1;32m     64\u001b[0m \u001b[43m    \u001b[49m\u001b[43mepochs\u001b[49m\u001b[38;5;241;43m=\u001b[39;49m\u001b[38;5;241;43m20\u001b[39;49m\u001b[43m,\u001b[49m\n\u001b[1;32m     65\u001b[0m \u001b[43m    \u001b[49m\u001b[43mvalidation_split\u001b[49m\u001b[38;5;241;43m=\u001b[39;49m\u001b[38;5;241;43m0.1\u001b[39;49m\u001b[43m,\u001b[49m\n\u001b[1;32m     66\u001b[0m \u001b[43m    \u001b[49m\u001b[43mcallbacks\u001b[49m\u001b[38;5;241;43m=\u001b[39;49m\u001b[43m[\u001b[49m\u001b[43mcheckpoint_callback\u001b[49m\u001b[43m]\u001b[49m\u001b[43m,\u001b[49m\n\u001b[1;32m     67\u001b[0m \u001b[43m\u001b[49m\u001b[43m)\u001b[49m\n\u001b[1;32m     69\u001b[0m val_accuracy \u001b[38;5;241m=\u001b[39m \u001b[38;5;28mmax\u001b[39m(history\u001b[38;5;241m.\u001b[39mhistory[\u001b[38;5;124m\"\u001b[39m\u001b[38;5;124mval_accuracy\u001b[39m\u001b[38;5;124m\"\u001b[39m])\n\u001b[1;32m     70\u001b[0m \u001b[38;5;28;01mif\u001b[39;00m val_accuracy \u001b[38;5;241m>\u001b[39m best_val_accuracy:\n",
      "File \u001b[0;32m~/miniconda3/lib/python3.8/site-packages/keras/utils/traceback_utils.py:64\u001b[0m, in \u001b[0;36mfilter_traceback.<locals>.error_handler\u001b[0;34m(*args, **kwargs)\u001b[0m\n\u001b[1;32m     62\u001b[0m filtered_tb \u001b[38;5;241m=\u001b[39m \u001b[38;5;28;01mNone\u001b[39;00m\n\u001b[1;32m     63\u001b[0m \u001b[38;5;28;01mtry\u001b[39;00m:\n\u001b[0;32m---> 64\u001b[0m   \u001b[38;5;28;01mreturn\u001b[39;00m \u001b[43mfn\u001b[49m\u001b[43m(\u001b[49m\u001b[38;5;241;43m*\u001b[39;49m\u001b[43margs\u001b[49m\u001b[43m,\u001b[49m\u001b[43m \u001b[49m\u001b[38;5;241;43m*\u001b[39;49m\u001b[38;5;241;43m*\u001b[39;49m\u001b[43mkwargs\u001b[49m\u001b[43m)\u001b[49m\n\u001b[1;32m     65\u001b[0m \u001b[38;5;28;01mexcept\u001b[39;00m \u001b[38;5;167;01mException\u001b[39;00m \u001b[38;5;28;01mas\u001b[39;00m e:  \u001b[38;5;66;03m# pylint: disable=broad-except\u001b[39;00m\n\u001b[1;32m     66\u001b[0m   filtered_tb \u001b[38;5;241m=\u001b[39m _process_traceback_frames(e\u001b[38;5;241m.\u001b[39m__traceback__)\n",
      "File \u001b[0;32m~/miniconda3/lib/python3.8/site-packages/keras/engine/training.py:1409\u001b[0m, in \u001b[0;36mModel.fit\u001b[0;34m(self, x, y, batch_size, epochs, verbose, callbacks, validation_split, validation_data, shuffle, class_weight, sample_weight, initial_epoch, steps_per_epoch, validation_steps, validation_batch_size, validation_freq, max_queue_size, workers, use_multiprocessing)\u001b[0m\n\u001b[1;32m   1402\u001b[0m \u001b[38;5;28;01mwith\u001b[39;00m tf\u001b[38;5;241m.\u001b[39mprofiler\u001b[38;5;241m.\u001b[39mexperimental\u001b[38;5;241m.\u001b[39mTrace(\n\u001b[1;32m   1403\u001b[0m     \u001b[38;5;124m'\u001b[39m\u001b[38;5;124mtrain\u001b[39m\u001b[38;5;124m'\u001b[39m,\n\u001b[1;32m   1404\u001b[0m     epoch_num\u001b[38;5;241m=\u001b[39mepoch,\n\u001b[1;32m   1405\u001b[0m     step_num\u001b[38;5;241m=\u001b[39mstep,\n\u001b[1;32m   1406\u001b[0m     batch_size\u001b[38;5;241m=\u001b[39mbatch_size,\n\u001b[1;32m   1407\u001b[0m     _r\u001b[38;5;241m=\u001b[39m\u001b[38;5;241m1\u001b[39m):\n\u001b[1;32m   1408\u001b[0m   callbacks\u001b[38;5;241m.\u001b[39mon_train_batch_begin(step)\n\u001b[0;32m-> 1409\u001b[0m   tmp_logs \u001b[38;5;241m=\u001b[39m \u001b[38;5;28;43mself\u001b[39;49m\u001b[38;5;241;43m.\u001b[39;49m\u001b[43mtrain_function\u001b[49m\u001b[43m(\u001b[49m\u001b[43miterator\u001b[49m\u001b[43m)\u001b[49m\n\u001b[1;32m   1410\u001b[0m   \u001b[38;5;28;01mif\u001b[39;00m data_handler\u001b[38;5;241m.\u001b[39mshould_sync:\n\u001b[1;32m   1411\u001b[0m     context\u001b[38;5;241m.\u001b[39masync_wait()\n",
      "File \u001b[0;32m~/miniconda3/lib/python3.8/site-packages/tensorflow/python/util/traceback_utils.py:150\u001b[0m, in \u001b[0;36mfilter_traceback.<locals>.error_handler\u001b[0;34m(*args, **kwargs)\u001b[0m\n\u001b[1;32m    148\u001b[0m filtered_tb \u001b[38;5;241m=\u001b[39m \u001b[38;5;28;01mNone\u001b[39;00m\n\u001b[1;32m    149\u001b[0m \u001b[38;5;28;01mtry\u001b[39;00m:\n\u001b[0;32m--> 150\u001b[0m   \u001b[38;5;28;01mreturn\u001b[39;00m \u001b[43mfn\u001b[49m\u001b[43m(\u001b[49m\u001b[38;5;241;43m*\u001b[39;49m\u001b[43margs\u001b[49m\u001b[43m,\u001b[49m\u001b[43m \u001b[49m\u001b[38;5;241;43m*\u001b[39;49m\u001b[38;5;241;43m*\u001b[39;49m\u001b[43mkwargs\u001b[49m\u001b[43m)\u001b[49m\n\u001b[1;32m    151\u001b[0m \u001b[38;5;28;01mexcept\u001b[39;00m \u001b[38;5;167;01mException\u001b[39;00m \u001b[38;5;28;01mas\u001b[39;00m e:\n\u001b[1;32m    152\u001b[0m   filtered_tb \u001b[38;5;241m=\u001b[39m _process_traceback_frames(e\u001b[38;5;241m.\u001b[39m__traceback__)\n",
      "File \u001b[0;32m~/miniconda3/lib/python3.8/site-packages/tensorflow/python/eager/def_function.py:915\u001b[0m, in \u001b[0;36mFunction.__call__\u001b[0;34m(self, *args, **kwds)\u001b[0m\n\u001b[1;32m    912\u001b[0m compiler \u001b[38;5;241m=\u001b[39m \u001b[38;5;124m\"\u001b[39m\u001b[38;5;124mxla\u001b[39m\u001b[38;5;124m\"\u001b[39m \u001b[38;5;28;01mif\u001b[39;00m \u001b[38;5;28mself\u001b[39m\u001b[38;5;241m.\u001b[39m_jit_compile \u001b[38;5;28;01melse\u001b[39;00m \u001b[38;5;124m\"\u001b[39m\u001b[38;5;124mnonXla\u001b[39m\u001b[38;5;124m\"\u001b[39m\n\u001b[1;32m    914\u001b[0m \u001b[38;5;28;01mwith\u001b[39;00m OptionalXlaContext(\u001b[38;5;28mself\u001b[39m\u001b[38;5;241m.\u001b[39m_jit_compile):\n\u001b[0;32m--> 915\u001b[0m   result \u001b[38;5;241m=\u001b[39m \u001b[38;5;28;43mself\u001b[39;49m\u001b[38;5;241;43m.\u001b[39;49m\u001b[43m_call\u001b[49m\u001b[43m(\u001b[49m\u001b[38;5;241;43m*\u001b[39;49m\u001b[43margs\u001b[49m\u001b[43m,\u001b[49m\u001b[43m \u001b[49m\u001b[38;5;241;43m*\u001b[39;49m\u001b[38;5;241;43m*\u001b[39;49m\u001b[43mkwds\u001b[49m\u001b[43m)\u001b[49m\n\u001b[1;32m    917\u001b[0m new_tracing_count \u001b[38;5;241m=\u001b[39m \u001b[38;5;28mself\u001b[39m\u001b[38;5;241m.\u001b[39mexperimental_get_tracing_count()\n\u001b[1;32m    918\u001b[0m without_tracing \u001b[38;5;241m=\u001b[39m (tracing_count \u001b[38;5;241m==\u001b[39m new_tracing_count)\n",
      "File \u001b[0;32m~/miniconda3/lib/python3.8/site-packages/tensorflow/python/eager/def_function.py:947\u001b[0m, in \u001b[0;36mFunction._call\u001b[0;34m(self, *args, **kwds)\u001b[0m\n\u001b[1;32m    944\u001b[0m   \u001b[38;5;28mself\u001b[39m\u001b[38;5;241m.\u001b[39m_lock\u001b[38;5;241m.\u001b[39mrelease()\n\u001b[1;32m    945\u001b[0m   \u001b[38;5;66;03m# In this case we have created variables on the first call, so we run the\u001b[39;00m\n\u001b[1;32m    946\u001b[0m   \u001b[38;5;66;03m# defunned version which is guaranteed to never create variables.\u001b[39;00m\n\u001b[0;32m--> 947\u001b[0m   \u001b[38;5;28;01mreturn\u001b[39;00m \u001b[38;5;28;43mself\u001b[39;49m\u001b[38;5;241;43m.\u001b[39;49m\u001b[43m_stateless_fn\u001b[49m\u001b[43m(\u001b[49m\u001b[38;5;241;43m*\u001b[39;49m\u001b[43margs\u001b[49m\u001b[43m,\u001b[49m\u001b[43m \u001b[49m\u001b[38;5;241;43m*\u001b[39;49m\u001b[38;5;241;43m*\u001b[39;49m\u001b[43mkwds\u001b[49m\u001b[43m)\u001b[49m  \u001b[38;5;66;03m# pylint: disable=not-callable\u001b[39;00m\n\u001b[1;32m    948\u001b[0m \u001b[38;5;28;01melif\u001b[39;00m \u001b[38;5;28mself\u001b[39m\u001b[38;5;241m.\u001b[39m_stateful_fn \u001b[38;5;129;01mis\u001b[39;00m \u001b[38;5;129;01mnot\u001b[39;00m \u001b[38;5;28;01mNone\u001b[39;00m:\n\u001b[1;32m    949\u001b[0m   \u001b[38;5;66;03m# Release the lock early so that multiple threads can perform the call\u001b[39;00m\n\u001b[1;32m    950\u001b[0m   \u001b[38;5;66;03m# in parallel.\u001b[39;00m\n\u001b[1;32m    951\u001b[0m   \u001b[38;5;28mself\u001b[39m\u001b[38;5;241m.\u001b[39m_lock\u001b[38;5;241m.\u001b[39mrelease()\n",
      "File \u001b[0;32m~/miniconda3/lib/python3.8/site-packages/tensorflow/python/eager/function.py:2453\u001b[0m, in \u001b[0;36mFunction.__call__\u001b[0;34m(self, *args, **kwargs)\u001b[0m\n\u001b[1;32m   2450\u001b[0m \u001b[38;5;28;01mwith\u001b[39;00m \u001b[38;5;28mself\u001b[39m\u001b[38;5;241m.\u001b[39m_lock:\n\u001b[1;32m   2451\u001b[0m   (graph_function,\n\u001b[1;32m   2452\u001b[0m    filtered_flat_args) \u001b[38;5;241m=\u001b[39m \u001b[38;5;28mself\u001b[39m\u001b[38;5;241m.\u001b[39m_maybe_define_function(args, kwargs)\n\u001b[0;32m-> 2453\u001b[0m \u001b[38;5;28;01mreturn\u001b[39;00m \u001b[43mgraph_function\u001b[49m\u001b[38;5;241;43m.\u001b[39;49m\u001b[43m_call_flat\u001b[49m\u001b[43m(\u001b[49m\n\u001b[1;32m   2454\u001b[0m \u001b[43m    \u001b[49m\u001b[43mfiltered_flat_args\u001b[49m\u001b[43m,\u001b[49m\u001b[43m \u001b[49m\u001b[43mcaptured_inputs\u001b[49m\u001b[38;5;241;43m=\u001b[39;49m\u001b[43mgraph_function\u001b[49m\u001b[38;5;241;43m.\u001b[39;49m\u001b[43mcaptured_inputs\u001b[49m\u001b[43m)\u001b[49m\n",
      "File \u001b[0;32m~/miniconda3/lib/python3.8/site-packages/tensorflow/python/eager/function.py:1860\u001b[0m, in \u001b[0;36mConcreteFunction._call_flat\u001b[0;34m(self, args, captured_inputs, cancellation_manager)\u001b[0m\n\u001b[1;32m   1856\u001b[0m possible_gradient_type \u001b[38;5;241m=\u001b[39m gradients_util\u001b[38;5;241m.\u001b[39mPossibleTapeGradientTypes(args)\n\u001b[1;32m   1857\u001b[0m \u001b[38;5;28;01mif\u001b[39;00m (possible_gradient_type \u001b[38;5;241m==\u001b[39m gradients_util\u001b[38;5;241m.\u001b[39mPOSSIBLE_GRADIENT_TYPES_NONE\n\u001b[1;32m   1858\u001b[0m     \u001b[38;5;129;01mand\u001b[39;00m executing_eagerly):\n\u001b[1;32m   1859\u001b[0m   \u001b[38;5;66;03m# No tape is watching; skip to running the function.\u001b[39;00m\n\u001b[0;32m-> 1860\u001b[0m   \u001b[38;5;28;01mreturn\u001b[39;00m \u001b[38;5;28mself\u001b[39m\u001b[38;5;241m.\u001b[39m_build_call_outputs(\u001b[38;5;28;43mself\u001b[39;49m\u001b[38;5;241;43m.\u001b[39;49m\u001b[43m_inference_function\u001b[49m\u001b[38;5;241;43m.\u001b[39;49m\u001b[43mcall\u001b[49m\u001b[43m(\u001b[49m\n\u001b[1;32m   1861\u001b[0m \u001b[43m      \u001b[49m\u001b[43mctx\u001b[49m\u001b[43m,\u001b[49m\u001b[43m \u001b[49m\u001b[43margs\u001b[49m\u001b[43m,\u001b[49m\u001b[43m \u001b[49m\u001b[43mcancellation_manager\u001b[49m\u001b[38;5;241;43m=\u001b[39;49m\u001b[43mcancellation_manager\u001b[49m\u001b[43m)\u001b[49m)\n\u001b[1;32m   1862\u001b[0m forward_backward \u001b[38;5;241m=\u001b[39m \u001b[38;5;28mself\u001b[39m\u001b[38;5;241m.\u001b[39m_select_forward_and_backward_functions(\n\u001b[1;32m   1863\u001b[0m     args,\n\u001b[1;32m   1864\u001b[0m     possible_gradient_type,\n\u001b[1;32m   1865\u001b[0m     executing_eagerly)\n\u001b[1;32m   1866\u001b[0m forward_function, args_with_tangents \u001b[38;5;241m=\u001b[39m forward_backward\u001b[38;5;241m.\u001b[39mforward()\n",
      "File \u001b[0;32m~/miniconda3/lib/python3.8/site-packages/tensorflow/python/eager/function.py:497\u001b[0m, in \u001b[0;36m_EagerDefinedFunction.call\u001b[0;34m(self, ctx, args, cancellation_manager)\u001b[0m\n\u001b[1;32m    495\u001b[0m \u001b[38;5;28;01mwith\u001b[39;00m _InterpolateFunctionError(\u001b[38;5;28mself\u001b[39m):\n\u001b[1;32m    496\u001b[0m   \u001b[38;5;28;01mif\u001b[39;00m cancellation_manager \u001b[38;5;129;01mis\u001b[39;00m \u001b[38;5;28;01mNone\u001b[39;00m:\n\u001b[0;32m--> 497\u001b[0m     outputs \u001b[38;5;241m=\u001b[39m \u001b[43mexecute\u001b[49m\u001b[38;5;241;43m.\u001b[39;49m\u001b[43mexecute\u001b[49m\u001b[43m(\u001b[49m\n\u001b[1;32m    498\u001b[0m \u001b[43m        \u001b[49m\u001b[38;5;28;43mstr\u001b[39;49m\u001b[43m(\u001b[49m\u001b[38;5;28;43mself\u001b[39;49m\u001b[38;5;241;43m.\u001b[39;49m\u001b[43msignature\u001b[49m\u001b[38;5;241;43m.\u001b[39;49m\u001b[43mname\u001b[49m\u001b[43m)\u001b[49m\u001b[43m,\u001b[49m\n\u001b[1;32m    499\u001b[0m \u001b[43m        \u001b[49m\u001b[43mnum_outputs\u001b[49m\u001b[38;5;241;43m=\u001b[39;49m\u001b[38;5;28;43mself\u001b[39;49m\u001b[38;5;241;43m.\u001b[39;49m\u001b[43m_num_outputs\u001b[49m\u001b[43m,\u001b[49m\n\u001b[1;32m    500\u001b[0m \u001b[43m        \u001b[49m\u001b[43minputs\u001b[49m\u001b[38;5;241;43m=\u001b[39;49m\u001b[43margs\u001b[49m\u001b[43m,\u001b[49m\n\u001b[1;32m    501\u001b[0m \u001b[43m        \u001b[49m\u001b[43mattrs\u001b[49m\u001b[38;5;241;43m=\u001b[39;49m\u001b[43mattrs\u001b[49m\u001b[43m,\u001b[49m\n\u001b[1;32m    502\u001b[0m \u001b[43m        \u001b[49m\u001b[43mctx\u001b[49m\u001b[38;5;241;43m=\u001b[39;49m\u001b[43mctx\u001b[49m\u001b[43m)\u001b[49m\n\u001b[1;32m    503\u001b[0m   \u001b[38;5;28;01melse\u001b[39;00m:\n\u001b[1;32m    504\u001b[0m     outputs \u001b[38;5;241m=\u001b[39m execute\u001b[38;5;241m.\u001b[39mexecute_with_cancellation(\n\u001b[1;32m    505\u001b[0m         \u001b[38;5;28mstr\u001b[39m(\u001b[38;5;28mself\u001b[39m\u001b[38;5;241m.\u001b[39msignature\u001b[38;5;241m.\u001b[39mname),\n\u001b[1;32m    506\u001b[0m         num_outputs\u001b[38;5;241m=\u001b[39m\u001b[38;5;28mself\u001b[39m\u001b[38;5;241m.\u001b[39m_num_outputs,\n\u001b[0;32m   (...)\u001b[0m\n\u001b[1;32m    509\u001b[0m         ctx\u001b[38;5;241m=\u001b[39mctx,\n\u001b[1;32m    510\u001b[0m         cancellation_manager\u001b[38;5;241m=\u001b[39mcancellation_manager)\n",
      "File \u001b[0;32m~/miniconda3/lib/python3.8/site-packages/tensorflow/python/eager/execute.py:54\u001b[0m, in \u001b[0;36mquick_execute\u001b[0;34m(op_name, num_outputs, inputs, attrs, ctx, name)\u001b[0m\n\u001b[1;32m     52\u001b[0m \u001b[38;5;28;01mtry\u001b[39;00m:\n\u001b[1;32m     53\u001b[0m   ctx\u001b[38;5;241m.\u001b[39mensure_initialized()\n\u001b[0;32m---> 54\u001b[0m   tensors \u001b[38;5;241m=\u001b[39m \u001b[43mpywrap_tfe\u001b[49m\u001b[38;5;241;43m.\u001b[39;49m\u001b[43mTFE_Py_Execute\u001b[49m\u001b[43m(\u001b[49m\u001b[43mctx\u001b[49m\u001b[38;5;241;43m.\u001b[39;49m\u001b[43m_handle\u001b[49m\u001b[43m,\u001b[49m\u001b[43m \u001b[49m\u001b[43mdevice_name\u001b[49m\u001b[43m,\u001b[49m\u001b[43m \u001b[49m\u001b[43mop_name\u001b[49m\u001b[43m,\u001b[49m\n\u001b[1;32m     55\u001b[0m \u001b[43m                                      \u001b[49m\u001b[43minputs\u001b[49m\u001b[43m,\u001b[49m\u001b[43m \u001b[49m\u001b[43mattrs\u001b[49m\u001b[43m,\u001b[49m\u001b[43m \u001b[49m\u001b[43mnum_outputs\u001b[49m\u001b[43m)\u001b[49m\n\u001b[1;32m     56\u001b[0m \u001b[38;5;28;01mexcept\u001b[39;00m core\u001b[38;5;241m.\u001b[39m_NotOkStatusException \u001b[38;5;28;01mas\u001b[39;00m e:\n\u001b[1;32m     57\u001b[0m   \u001b[38;5;28;01mif\u001b[39;00m name \u001b[38;5;129;01mis\u001b[39;00m \u001b[38;5;129;01mnot\u001b[39;00m \u001b[38;5;28;01mNone\u001b[39;00m:\n",
      "\u001b[0;31mKeyboardInterrupt\u001b[0m: "
     ]
    }
   ],
   "source": [
    "import tensorflow as tf\n",
    "import pickle\n",
    "optimizer = tf.optimizers.AdamW(\n",
    "    learning_rate=learning_rate, weight_decay=weight_decay\n",
    ")\n",
    "checkpoint_filepath = \"/tmp/checkpoint.weights.h5\"\n",
    "checkpoint_callback = keras.callbacks.ModelCheckpoint(\n",
    "    checkpoint_filepath,\n",
    "    monitor=\"val_accuracy\",\n",
    "    save_best_only=True,\n",
    "    save_weights_only=True,\n",
    ")\n",
    "def create_vit_classifier(patch_size, num_heads, projection_dim, transformer_layers):\n",
    "    inputs = keras.Input(shape=input_shape)\n",
    "    augmented = data_augmentation(inputs)\n",
    "    patches = Patches(patch_size)(augmented)\n",
    "    num_patches = (augmented.shape[1] // patch_size) ** 2\n",
    "    encoded_patches = PatchEncoder(num_patches, projection_dim)(patches)\n",
    "\n",
    "    for _ in range(transformer_layers):\n",
    "        x1 = layers.LayerNormalization(epsilon=1e-6)(encoded_patches)\n",
    "        att_module = My_MultiHeadAttention(\n",
    "            embed_dim=projection_dim, num_heads=num_heads, value_dim=projection_dim, output_dim=projection_dim\n",
    "        )\n",
    "        attention_output = att_module(x1)\n",
    "        x2 = layers.Add()([attention_output, encoded_patches])\n",
    "        x3 = layers.LayerNormalization(epsilon=1e-6)(x2)\n",
    "        x3 = mlp(x3, hidden_units=[projection_dim*2,projection_dim], dropout_rate=0.1)\n",
    "        encoded_patches = layers.Add()([x3, x2])\n",
    "    \n",
    "    encoded_cls = encoded_patches[:, 0]\n",
    "    representation = layers.LayerNormalization(epsilon=1e-6)(encoded_cls)\n",
    "    representation = layers.Flatten()(representation)\n",
    "    representation = layers.Dropout(0.5)(representation)\n",
    "    features = mlp(representation, hidden_units=mlp_head_units, dropout_rate=0.5)\n",
    "    logits = layers.Dense(num_classes)(features)\n",
    "    model = keras.Model(inputs=inputs, outputs=logits)\n",
    "    return model\n",
    "\n",
    "def evaluate_hyperparameters(param_name, values, base_params):\n",
    "    global best_val_accuracy, best_hyperparameters\n",
    "    histories = {}    \n",
    "    for value in values:\n",
    "        params = base_params.copy()\n",
    "        params[param_name] = value\n",
    "        \n",
    "        print(f\"Training with {param_name}={value}\")\n",
    "        vit_classifier = create_vit_classifier(\n",
    "            params['patch_size'], \n",
    "            params['num_heads'], \n",
    "            params['projection_dim'], \n",
    "            params['transformer_layers']\n",
    "        )\n",
    "        \n",
    "        vit_classifier.compile(\n",
    "            optimizer=optimizer,\n",
    "            loss=keras.losses.SparseCategoricalCrossentropy(from_logits=True),\n",
    "            metrics=[\"accuracy\"],\n",
    "        )\n",
    "        \n",
    "        history = vit_classifier.fit(\n",
    "            x=x_train,\n",
    "            y=y_train,\n",
    "            batch_size=batch_size,\n",
    "            epochs=2,\n",
    "            validation_split=0.1,\n",
    "            callbacks=[checkpoint_callback],\n",
    "        )\n",
    "        # Save history to a local file\n",
    "        history_file = f\"history_{param_name}_{value}.pkl\"\n",
    "        with open(history_file, \"wb\") as f:\n",
    "            pickle.dump(history.history, f)\n",
    "        \n",
    "        print(f\"Saved history to {history_file}\")\n",
    "        # Save history\n",
    "        histories[f\"{param_name}={value}\"] = history.history        \n",
    "        val_accuracy = max(history.history[\"val_accuracy\"])\n",
    "        if val_accuracy > best_val_accuracy:\n",
    "            best_val_accuracy = val_accuracy\n",
    "            best_hyperparameters = params\n",
    "        \n",
    "        print(f\"Val accuracy: {val_accuracy:.4f}\")\n",
    "    return histories\n",
    "# Base parameters\n",
    "base_params = {\n",
    "    \"patch_size\": 8,\n",
    "    \"num_heads\": 4,\n",
    "    \"projection_dim\": 128,\n",
    "    \"transformer_layers\": 8\n",
    "}\n",
    "\n",
    "# Evaluate different settings\n",
    "best_val_accuracy = 0\n",
    "best_hyperparameters = {}\n",
    "\n"
   ]
  },
  {
   "cell_type": "code",
   "execution_count": null,
   "metadata": {},
   "outputs": [],
   "source": [
    "evaluate_hyperparameters(\"patch_size\", [8,12], base_params)"
   ]
  },
  {
   "cell_type": "code",
   "execution_count": null,
   "metadata": {},
   "outputs": [],
   "source": [
    "evaluate_hyperparameters(\"num_heads\", [2, 8], base_params)"
   ]
  },
  {
   "cell_type": "code",
   "execution_count": null,
   "metadata": {},
   "outputs": [],
   "source": [
    "evaluate_hyperparameters(\"projection_dim\", [64, 256], base_params)"
   ]
  },
  {
   "cell_type": "code",
   "execution_count": null,
   "metadata": {},
   "outputs": [],
   "source": [
    "evaluate_hyperparameters(\"transformer_layers\", [4, 12], base_params)"
   ]
  },
  {
   "cell_type": "code",
   "execution_count": null,
   "metadata": {},
   "outputs": [],
   "source": [
    "# Collecting all histories\n",
    "# all_histories = {}\n",
    "# all_histories.update(evaluate_hyperparameters(\"patch_size\", [8, 12], base_params))\n",
    "# all_histories.update(evaluate_hyperparameters(\"num_heads\", [2, 8], base_params))\n",
    "# all_histories.update(evaluate_hyperparameters(\"projection_dim\", [64, 256], base_params))\n",
    "# all_histories.update(evaluate_hyperparameters(\"transformer_layers\", [4, 12], base_params))\n",
    "\n",
    "# Plotting function\n",
    "# def plot_all_histories(histories):\n",
    "#     plt.figure(figsize=(12, 6))\n",
    "    \n",
    "#     # Plot accuracy\n",
    "#     plt.subplot(1, 2, 1)\n",
    "#     for key, history in histories.items():\n",
    "#         plt.plot(history['accuracy'], label=f'{key} train')\n",
    "#         plt.plot(history['val_accuracy'], linestyle='--', label=f'{key} val')\n",
    "#     plt.title('Accuracy')\n",
    "#     plt.xlabel('Epoch')\n",
    "#     plt.ylabel('Accuracy')\n",
    "#     plt.legend()\n",
    "\n",
    "#     # Plot loss\n",
    "#     plt.subplot(1, 2, 2)\n",
    "#     for key, history in histories.items():\n",
    "#         plt.plot(history['loss'], label=f'{key} train')\n",
    "#         plt.plot(history['val_loss'], linestyle='--', label=f'{key} val')\n",
    "#     plt.title('Loss')\n",
    "#     plt.xlabel('Epoch')\n",
    "#     plt.ylabel('Loss')\n",
    "#     plt.legend()\n",
    "\n",
    "#     plt.show()\n",
    "\n",
    "# # Plot all histories\n",
    "# plot_all_histories(all_histories)"
   ]
  },
  {
   "cell_type": "code",
   "execution_count": null,
   "metadata": {},
   "outputs": [],
   "source": [
    "import pickle\n",
    "import matplotlib.pyplot as plt\n",
    "\n",
    "# Function to load history from a file\n",
    "def load_history(file_path):\n",
    "    with open(file_path, \"rb\") as f:\n",
    "        return pickle.load(f)\n",
    "\n",
    "# Function to plot the comparison of different histories\n",
    "def plot_comparison(history_files):\n",
    "    plt.figure(figsize=(12, 6))\n",
    "    \n",
    "    # Plot accuracy\n",
    "    plt.subplot(1, 2, 1)\n",
    "    for file_path in history_files:\n",
    "        history = load_history(file_path)\n",
    "        label = file_path.split('.')[0]  # Use file name as label\n",
    "        plt.plot(history['accuracy'], label=f'{label} train')\n",
    "        plt.plot(history['val_accuracy'], linestyle='--', label=f'{label} val')\n",
    "    plt.title('Accuracy')\n",
    "    plt.xlabel('Epoch')\n",
    "    plt.ylabel('Accuracy')\n",
    "    plt.legend()\n",
    "\n",
    "    # Plot loss\n",
    "    plt.subplot(1, 2, 2)\n",
    "    for file_path in history_files:\n",
    "        history = load_history(file_path)\n",
    "        label = file_path.split('.')[0]\n",
    "        plt.plot(history['loss'], label=f'{label} train')\n",
    "        plt.plot(history['val_loss'], linestyle='--', label=f'{label} val')\n",
    "    plt.title('Loss')\n",
    "    plt.xlabel('Epoch')\n",
    "    plt.ylabel('Loss')\n",
    "    plt.legend()\n",
    "\n",
    "    plt.show()\n",
    "\n",
    "# List of history files to compare\n",
    "history_files = [\n",
    "    \"history_patch_size_8.pkl\",\n",
    "    \"history_patch_size_12.pkl\",\n",
    "    \"history_num_heads_2.pkl\",\n",
    "    \"history_num_heads_8.pkl\",\n",
    "    \"history_projection_dim_64.pkl\",\n",
    "    \"history_projection_dim_256.pkl\",\n",
    "    \"history_transformer_layers_4.pkl\",\n",
    "    \"history_transformer_layers_12.pkl\"\n",
    "]\n",
    "\n",
    "# Plot the comparison\n",
    "plot_comparison(history_files)"
   ]
  },
  {
   "cell_type": "code",
   "execution_count": null,
   "metadata": {},
   "outputs": [],
   "source": [
    "print(\"best hyperparameters:\",best_hyperparameters)\n",
    "print(\"best valid accuracy\",best_val_accuracy)"
   ]
  }
 ],
 "metadata": {
  "accelerator": "GPU",
  "colab": {
   "provenance": []
  },
  "kernelspec": {
   "display_name": "Python 3 (ipykernel)",
   "language": "python",
   "name": "python3"
  },
  "language_info": {
   "codemirror_mode": {
    "name": "ipython",
    "version": 3
   },
   "file_extension": ".py",
   "mimetype": "text/x-python",
   "name": "python",
   "nbconvert_exporter": "python",
   "pygments_lexer": "ipython3",
   "version": "3.8.10"
  }
 },
 "nbformat": 4,
 "nbformat_minor": 4
}
